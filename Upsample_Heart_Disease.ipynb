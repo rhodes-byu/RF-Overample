version https://git-lfs.github.com/spec/v1
oid sha256:e5c20236adef927950cbed5a466bd51aaa893d1f55e2b527e9ce5fd3b13572cd
size 626271
