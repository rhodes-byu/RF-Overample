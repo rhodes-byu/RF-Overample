{
 "cells": [
  {
   "cell_type": "code",
   "execution_count": 6,
   "id": "4cf42911",
   "metadata": {},
   "outputs": [],
   "source": [
    "from SupportFunctions.load_datasets import load_and_prepare_datasets"
   ]
  },
  {
   "cell_type": "code",
   "execution_count": 7,
   "id": "3eaaa6b7",
   "metadata": {},
   "outputs": [
    {
     "name": "stdout",
     "output_type": "stream",
     "text": [
      "Loaded: diabetes.csv (768 rows, 9 columns)\n",
      "Loaded: iris.csv (150 rows, 5 columns)\n",
      "Loaded: zoo.csv (101 rows, 18 columns)\n",
      "\n",
      "Total datasets loaded successfully: 3\n"
     ]
    },
    {
     "data": {
      "text/plain": [
       "{'diabetes': {'data':      Outcome  Pregnancies  Glucose  BloodPressure  SkinThickness  Insulin  \\\n",
       "  0          1            6      148             72             35        0   \n",
       "  1          0            1       85             66             29        0   \n",
       "  2          1            8      183             64              0        0   \n",
       "  3          0            1       89             66             23       94   \n",
       "  4          1            0      137             40             35      168   \n",
       "  ..       ...          ...      ...            ...            ...      ...   \n",
       "  763        0           10      101             76             48      180   \n",
       "  764        0            2      122             70             27        0   \n",
       "  765        0            5      121             72             23      112   \n",
       "  766        1            1      126             60              0        0   \n",
       "  767        0            1       93             70             31        0   \n",
       "  \n",
       "        BMI  DiabetesPedigreeFunction  Age  \n",
       "  0    33.6                     0.627   50  \n",
       "  1    26.6                     0.351   31  \n",
       "  2    23.3                     0.672   32  \n",
       "  3    28.1                     0.167   21  \n",
       "  4    43.1                     2.288   33  \n",
       "  ..    ...                       ...  ...  \n",
       "  763  32.9                     0.171   63  \n",
       "  764  36.8                     0.340   27  \n",
       "  765  26.2                     0.245   30  \n",
       "  766  30.1                     0.349   47  \n",
       "  767  30.4                     0.315   23  \n",
       "  \n",
       "  [768 rows x 9 columns],\n",
       "  'categorical_indices': []},\n",
       " 'iris': {'data':        species  sepal_length  sepal_width  petal_length  petal_width\n",
       "  0       setosa           5.1          3.5           1.4          0.2\n",
       "  1       setosa           4.9          3.0           1.4          0.2\n",
       "  2       setosa           4.7          3.2           1.3          0.2\n",
       "  3       setosa           4.6          3.1           1.5          0.2\n",
       "  4       setosa           5.0          3.6           1.4          0.2\n",
       "  ..         ...           ...          ...           ...          ...\n",
       "  145  virginica           6.7          3.0           5.2          2.3\n",
       "  146  virginica           6.3          2.5           5.0          1.9\n",
       "  147  virginica           6.5          3.0           5.2          2.0\n",
       "  148  virginica           6.2          3.4           5.4          2.3\n",
       "  149  virginica           5.9          3.0           5.1          1.8\n",
       "  \n",
       "  [150 rows x 5 columns],\n",
       "  'categorical_indices': []},\n",
       " 'zoo': {'data':         class  1  2  3  4  5  6  7  8  9  10  11  12  13  14  15  16  17\n",
       "  0    aardvark  1  0  0  1  0  0  1  1  1   1   0   0   4   0   0   1   1\n",
       "  1    antelope  1  0  0  1  0  0  0  1  1   1   0   0   4   1   0   1   1\n",
       "  2        bass  0  0  1  0  0  1  1  1  1   0   0   1   0   1   0   0   4\n",
       "  3        bear  1  0  0  1  0  0  1  1  1   1   0   0   4   0   0   1   1\n",
       "  4        boar  1  0  0  1  0  0  1  1  1   1   0   0   4   1   0   1   1\n",
       "  ..        ... .. .. .. .. .. .. .. .. ..  ..  ..  ..  ..  ..  ..  ..  ..\n",
       "  96    wallaby  1  0  0  1  0  0  0  1  1   1   0   0   2   1   0   1   1\n",
       "  97       wasp  1  0  1  0  1  0  0  0  0   1   1   0   6   0   0   0   6\n",
       "  98       wolf  1  0  0  1  0  0  1  1  1   1   0   0   4   1   0   1   1\n",
       "  99       worm  0  0  1  0  0  0  0  0  0   1   0   0   0   0   0   0   7\n",
       "  100      wren  0  1  1  0  1  0  0  0  1   1   0   0   2   1   0   0   2\n",
       "  \n",
       "  [101 rows x 18 columns],\n",
       "  'categorical_indices': [0,\n",
       "   1,\n",
       "   2,\n",
       "   3,\n",
       "   4,\n",
       "   5,\n",
       "   6,\n",
       "   7,\n",
       "   8,\n",
       "   9,\n",
       "   10,\n",
       "   11,\n",
       "   12,\n",
       "   13,\n",
       "   14,\n",
       "   15,\n",
       "   16]}}"
      ]
     },
     "execution_count": 7,
     "metadata": {},
     "output_type": "execute_result"
    }
   ],
   "source": [
    "load_and_prepare_datasets(\n",
    "    folder_path = \"datasets\",\n",
    "    selected_datasets = [\"iris\", \"diabetes\", \"zoo\"]\n",
    ")"
   ]
  },
  {
   "cell_type": "markdown",
   "id": "f7a63752",
   "metadata": {},
   "source": []
  }
 ],
 "metadata": {
  "kernelspec": {
   "display_name": "Python 3",
   "language": "python",
   "name": "python3"
  },
  "language_info": {
   "codemirror_mode": {
    "name": "ipython",
    "version": 3
   },
   "file_extension": ".py",
   "mimetype": "text/x-python",
   "name": "python",
   "nbconvert_exporter": "python",
   "pygments_lexer": "ipython3",
   "version": "3.10.11"
  }
 },
 "nbformat": 4,
 "nbformat_minor": 5
}
