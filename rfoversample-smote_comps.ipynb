{
 "cells": [
  {
   "cell_type": "code",
   "execution_count": 73,
   "metadata": {},
   "outputs": [],
   "source": [
    "import numpy as np\n",
    "import pandas as pd\n",
    "import seaborn as sns\n",
    "import matplotlib.pyplot as plt\n",
    "from sklearn.metrics import f1_score\n",
    "from sklearn.ensemble import RandomForestClassifier\n",
    "from rfoversample import RFOversampler\n",
    "from imblearn.over_sampling import SMOTE\n",
    "from sklearn.preprocessing import LabelEncoder\n",
    "\n",
    "\n",
    "\n",
    "\n",
    "import sys\n",
    "sys.path.append(\"SupportFunctions\")\n",
    "\n",
    "from prepare_datasets import DatasetPreprocessor  "
   ]
  },
  {
   "cell_type": "code",
   "execution_count": 74,
   "metadata": {},
   "outputs": [],
   "source": [
    "from sklearn.utils import resample\n",
    "\n",
    "def introduce_imbalance(x, y, imbalance_ratio=0.2, random_state=42):\n",
    "    \"\"\"\n",
    "    Downsample all non-majority classes to match the given imbalance ratio.\n",
    "\n",
    "    Args:\n",
    "        x (pd.DataFrame): Features.\n",
    "        y (pd.Series): Labels.\n",
    "        imbalance_ratio (float): Desired ratio of each minority class to the majority class.\n",
    "        random_state (int): Random seed.\n",
    "\n",
    "    Returns:\n",
    "        Tuple[pd.DataFrame, pd.Series]: The imbalanced x and y.\n",
    "    \"\"\"\n",
    "    # Combine into one DataFrame\n",
    "    df = pd.concat([x, y], axis=1)\n",
    "    label_col = y.name\n",
    "\n",
    "    # Find majority class and its count\n",
    "    value_counts = y.value_counts()\n",
    "    maj_label = value_counts.idxmax()\n",
    "    maj_count = value_counts.max()\n",
    "\n",
    "    frames = []\n",
    "\n",
    "    for label, count in value_counts.items():\n",
    "        class_df = df[df[label_col] == label]\n",
    "\n",
    "        if label == maj_label:\n",
    "            frames.append(class_df)  # Keep majority class as-is\n",
    "        else:\n",
    "            n_samples = max(1, int(imbalance_ratio * maj_count))\n",
    "            sampled_df = resample(class_df, replace=True, n_samples=n_samples, random_state=random_state)\n",
    "            frames.append(sampled_df)\n",
    "\n",
    "    # Combine and shuffle\n",
    "    result_df = pd.concat(frames).sample(frac=1, random_state=random_state).reset_index(drop=True)\n",
    "    x_new = result_df.drop(columns=label_col)\n",
    "    y_new = result_df[label_col]\n",
    "\n",
    "    # print(f\"Original class distribution: {value_counts.to_dict()}\")\n",
    "    # print(f\"Imbalanced class distribution: {y_new.value_counts().to_dict()}\")\n",
    "\n",
    "    return x_new, y_new\n"
   ]
  },
  {
   "cell_type": "code",
   "execution_count": 75,
   "metadata": {},
   "outputs": [],
   "source": [
    "def Compare_RF_F1scores(OG_x_train, OG_y_train, RF_x_train_upsampled, RF_y_train_upsampled, SM_x_train_upsampled, SM_y_train_upsampled, x_test, y_test):\n",
    "\n",
    "    #train, fit, and predict original points\n",
    "    original_RF = RandomForestClassifier(class_weight='balanced')\n",
    "    original_RF.fit(OG_x_train, OG_y_train)\n",
    "    y_pred_original = original_RF.predict(x_test)\n",
    "\n",
    "    #train, fit, and predict points upsampled by Random Forest Upsampler\n",
    "    RF_upsampled_RF = RandomForestClassifier()\n",
    "    RF_upsampled_RF.fit(RF_x_train_upsampled, RF_y_train_upsampled)\n",
    "    y_pred_RF_upsampled = RF_upsampled_RF.predict(x_test)\n",
    "\n",
    "    #train, fit, and predict points upsampled by SMOTE\n",
    "    SM_upsampled_RF = RandomForestClassifier()\n",
    "    SM_upsampled_RF.fit(SM_x_train_upsampled, SM_y_train_upsampled)\n",
    "    y_pred_SM_upsampled = SM_upsampled_RF.predict(x_test)\n",
    "\n",
    "    #append f1 scores\n",
    "    scores_OG = f1_score(y_test, y_pred_original, average='binary')\n",
    "    scores_RF_upsampled = f1_score(y_test, y_pred_RF_upsampled, average='binary')\n",
    "    scores_SM_upsampled = f1_score(y_test, y_pred_SM_upsampled, average='binary')\n",
    "\n",
    "    return scores_OG, scores_RF_upsampled, scores_SM_upsampled\n",
    "\n",
    "    "
   ]
  },
  {
   "cell_type": "code",
   "execution_count": 76,
   "metadata": {},
   "outputs": [],
   "source": [
    "def run(n, data, dataset_name, target, ratio, categorical=False, encoded=False, cat_col=None):\n",
    "    OG_scores = np.zeros(n)\n",
    "    RF_upsampled_scores = np.zeros(n)\n",
    "    SM_upsampled_scores = np.zeros(n)\n",
    "    for i in range(n):\n",
    "        preprocessor = DatasetPreprocessor(data, target_column=target)\n",
    "        x_train, y_train, x_test, y_test = (preprocessor.x_train, preprocessor.y_train,\n",
    "                                                    preprocessor.x_test, preprocessor.y_test)\n",
    "\n",
    "        x_train_imbal, y_train_imbal = introduce_imbalance(x_train, y_train, imbalance_ratio=ratio)\n",
    "\n",
    "        Oversampler = RFOversampler(x_train=x_train_imbal, y_train=y_train_imbal, contains_categoricals=categorical, encoded=encoded, cat_cols=cat_col)\n",
    "        RF_upsampled_x_train, RF_upsampled_y_train = Oversampler.fit()\n",
    "\n",
    "        smote = SMOTE(random_state=42)\n",
    "        SM_upsampled_x_train, SM_upsampled_y_train = smote.fit_resample(x_train_imbal, y_train_imbal)\n",
    "    \n",
    "        OG_score, RF_upsampled_score, SM_upsampled_score = Compare_RF_F1scores( \n",
    "        x_train_imbal, \n",
    "        y_train_imbal, \n",
    "        RF_upsampled_x_train, \n",
    "        RF_upsampled_y_train, \n",
    "        SM_upsampled_x_train, \n",
    "        SM_upsampled_y_train, \n",
    "        x_test, \n",
    "        y_test\n",
    "        )\n",
    "        OG_scores[i] = OG_score\n",
    "        RF_upsampled_scores[i] = RF_upsampled_score\n",
    "        SM_upsampled_scores[i] = SM_upsampled_score\n",
    "    \n",
    "    # print(f\"No Upsampling avg f1 score: {np.mean(OG_scores)}\")\n",
    "    # print(f\"RF avg f1 score: {np.mean(RF_upsampled_scores)}\")\n",
    "    # print(f\"SMOTE avg f1 score {np.mean(SM_upsampled_scores)}\")\n",
    "    print(np.mean(RF_upsampled_scores) - np.mean(SM_upsampled_scores))\n",
    "    # fig, ax = plt.subplots(1,3, figsize=(10,5), sharey=True)\n",
    "\n",
    "    # ax[0].plot(range(1,n+1), OG_scores)\n",
    "    # ax[0].set(title='Original Data')\n",
    "    # ax[1].plot(range(1,n+1), RF_upsampled_scores)\n",
    "    # ax[1].set(title='RF upsampled Data')\n",
    "    # ax[2].plot(range(1,n+1), SM_upsampled_scores)\n",
    "    # ax[2].set(title='SMOTE upsampled Data')\n",
    "    # fig.suptitle(f'F1 Scores - {dataset_name} ({ratio} imbalance ratio)')\n",
    "\n",
    "    "
   ]
  },
  {
   "cell_type": "code",
   "execution_count": 77,
   "metadata": {},
   "outputs": [],
   "source": [
    "artificial_tree_data = pd.read_csv(\"./datasets/artificial_tree.csv\")\n",
    "glass_data = pd.read_csv(\"./datasets/glass.csv\")\n",
    "opt_digits_data = pd.read_csv(\"./datasets/optdigits.csv\")\n",
    "diabetes_data = pd.read_csv(\"./datasets/diabetes.csv\")\n",
    "hill_valley_data = pd.read_csv(\"./datasets/hill_valley.csv\")\n",
    "titanic_data = pd.read_csv(\"./datasets/titanic.csv\")\n",
    "flare1_data = pd.read_csv(\"./datasets/flare1.csv\")\n",
    "heart_failure_data = pd.read_csv('./datasets/heart_failure.csv')\n",
    "hepatitis_data = pd.read_csv('./datasets/hepatitis.csv')\n",
    "ionsphere_data = pd.read_csv('./datasets/ionosphere.csv')\n",
    "le = LabelEncoder()\n",
    "ionsphere_data['class'] = le.fit_transform(ionsphere_data['class'])\n",
    "parkinsons_data = pd.read_csv('./datasets/parkinsons.csv')\n",
    "seeds_data = pd.read_csv('./datasets/seeds.csv')\n",
    "sonar_data = pd.read_csv('./datasets/sonar.csv')\n",
    "le1 = LabelEncoder()\n",
    "sonar_data['class'] = le1.fit_transform(sonar_data['class'])\n"
   ]
  },
  {
   "cell_type": "markdown",
   "metadata": {},
   "source": [
    "ARTIFICIAL TREE TEST COMPARISON"
   ]
  },
  {
   "cell_type": "code",
   "execution_count": 78,
   "metadata": {},
   "outputs": [],
   "source": [
    "# run(1, artificial_tree_data, \"Artificial Tree\", \"Class\", 0.2, categorical=False, encoded=False, cat_col=None)"
   ]
  },
  {
   "cell_type": "markdown",
   "metadata": {},
   "source": [
    "DIABETES EXAMPLE"
   ]
  },
  {
   "cell_type": "code",
   "execution_count": 79,
   "metadata": {},
   "outputs": [
    {
     "name": "stdout",
     "output_type": "stream",
     "text": [
      "0.03005660678768668\n"
     ]
    }
   ],
   "source": [
    "run(20, diabetes_data, \"diabetes\", \"Outcome\", 0.1, categorical=False, encoded=False, cat_col=None)"
   ]
  },
  {
   "cell_type": "code",
   "execution_count": 80,
   "metadata": {},
   "outputs": [],
   "source": [
    "colsss = [str(i) for i in range(2, 14)]\n",
    "# run(20, hepatitis_data, \"hepatitis\", \"class\", 0.1, categorical=True, encoded=False, cat_col=colsss)"
   ]
  },
  {
   "cell_type": "code",
   "execution_count": 81,
   "metadata": {},
   "outputs": [
    {
     "name": "stdout",
     "output_type": "stream",
     "text": [
      "0.009946011455342463\n"
     ]
    }
   ],
   "source": [
    "run(20, ionsphere_data, \"ionosphere\", \"class\", 0.1, categorical=True, encoded=False, cat_col=['V1'])"
   ]
  },
  {
   "cell_type": "code",
   "execution_count": 82,
   "metadata": {},
   "outputs": [
    {
     "name": "stdout",
     "output_type": "stream",
     "text": [
      "0.017878878625147254\n"
     ]
    }
   ],
   "source": [
    "run(20, heart_failure_data, \"heart failure\", \"DEATH_EVENT\", 0.1, categorical=True, encoded=False, cat_col=['anaemia', 'diabetes', 'high_blood_pressure', 'sex', 'smoking'])"
   ]
  },
  {
   "cell_type": "markdown",
   "metadata": {},
   "source": [
    "HILL VALLEY EXAMPLE"
   ]
  },
  {
   "cell_type": "code",
   "execution_count": 83,
   "metadata": {},
   "outputs": [
    {
     "name": "stdout",
     "output_type": "stream",
     "text": [
      "0.03130704808868562\n"
     ]
    }
   ],
   "source": [
    "run(20, hill_valley_data, \"Hill Valley\", \"class\", 0.1, categorical=False, encoded=False, cat_col=None)"
   ]
  },
  {
   "cell_type": "markdown",
   "metadata": {},
   "source": [
    "TITANIC EXAMPLE"
   ]
  },
  {
   "cell_type": "code",
   "execution_count": 89,
   "metadata": {},
   "outputs": [
    {
     "name": "stdout",
     "output_type": "stream",
     "text": [
      "0.014243640943791713\n"
     ]
    }
   ],
   "source": [
    "encoded_titanic = pd.get_dummies(titanic_data, columns=['Pclass', 'Sex', 'Embarked'], dtype=int)\n",
    "run(20, encoded_titanic, \"Titanic\", \"Survived\", 0.3, categorical=True, encoded=True, cat_col=['Pclass', 'Sex', 'Embarked'])"
   ]
  },
  {
   "cell_type": "code",
   "execution_count": 85,
   "metadata": {},
   "outputs": [
    {
     "name": "stdout",
     "output_type": "stream",
     "text": [
      "-0.07635297960159959\n"
     ]
    }
   ],
   "source": [
    "run(20, titanic_data, \"Titanic\", \"Survived\", 0.1, categorical=True, encoded=False, cat_col=['Pclass', 'Sex', 'Embarked'])"
   ]
  },
  {
   "cell_type": "code",
   "execution_count": 88,
   "metadata": {},
   "outputs": [
    {
     "name": "stdout",
     "output_type": "stream",
     "text": [
      "-0.04995414929625469\n"
     ]
    }
   ],
   "source": [
    "run(20, sonar_data, \"sonar\", \"class\", 0.1, categorical=False, encoded=False, cat_col=None)"
   ]
  }
 ],
 "metadata": {
  "kernelspec": {
   "display_name": "rfgap_upsample",
   "language": "python",
   "name": "python3"
  },
  "language_info": {
   "codemirror_mode": {
    "name": "ipython",
    "version": 3
   },
   "file_extension": ".py",
   "mimetype": "text/x-python",
   "name": "python",
   "nbconvert_exporter": "python",
   "pygments_lexer": "ipython3",
   "version": "3.11.5"
  }
 },
 "nbformat": 4,
 "nbformat_minor": 2
}
