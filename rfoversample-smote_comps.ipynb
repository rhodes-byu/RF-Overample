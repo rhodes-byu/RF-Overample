{
 "cells": [
  {
   "cell_type": "code",
   "execution_count": 1,
   "metadata": {},
   "outputs": [],
   "source": [
    "import numpy as np\n",
    "import pandas as pd\n",
    "import seaborn as sns\n",
    "import matplotlib.pyplot as plt\n",
    "from sklearn.metrics import f1_score\n",
    "from sklearn.ensemble import RandomForestClassifier\n",
    "from rfoversample import RFOversampler\n",
    "from imblearn.over_sampling import SMOTE\n",
    "from sklearn.preprocessing import LabelEncoder\n",
    "\n",
    "\n",
    "\n",
    "\n",
    "import sys\n",
    "sys.path.append(\"SupportFunctions\")\n",
    "\n",
    "from prepare_datasets import DatasetPreprocessor  "
   ]
  },
  {
   "cell_type": "code",
   "execution_count": 2,
   "metadata": {},
   "outputs": [],
   "source": [
    "from sklearn.utils import resample\n",
    "\n",
    "def introduce_imbalance(x, y, imbalance_ratio=0.2, random_state=42):\n",
    "    \"\"\"\n",
    "    Downsample all non-majority classes to match the given imbalance ratio.\n",
    "\n",
    "    Args:\n",
    "        x (pd.DataFrame): Features.\n",
    "        y (pd.Series): Labels.\n",
    "        imbalance_ratio (float): Desired ratio of each minority class to the majority class.\n",
    "        random_state (int): Random seed.\n",
    "\n",
    "    Returns:\n",
    "        Tuple[pd.DataFrame, pd.Series]: The imbalanced x and y.\n",
    "    \"\"\"\n",
    "    # Combine into one DataFrame\n",
    "    df = pd.concat([x, y], axis=1)\n",
    "    label_col = y.name\n",
    "\n",
    "    # Find majority class and its count\n",
    "    value_counts = y.value_counts()\n",
    "    maj_label = value_counts.idxmax()\n",
    "    maj_count = value_counts.max()\n",
    "\n",
    "    frames = []\n",
    "\n",
    "    for label, count in value_counts.items():\n",
    "        class_df = df[df[label_col] == label]\n",
    "\n",
    "        if label == maj_label:\n",
    "            frames.append(class_df)  # Keep majority class as-is\n",
    "        else:\n",
    "            n_samples = max(1, int(imbalance_ratio * maj_count))\n",
    "            sampled_df = resample(class_df, replace=True, n_samples=n_samples, random_state=random_state)\n",
    "            frames.append(sampled_df)\n",
    "\n",
    "    # Combine and shuffle\n",
    "    result_df = pd.concat(frames).sample(frac=1, random_state=random_state).reset_index(drop=True)\n",
    "    x_new = result_df.drop(columns=label_col)\n",
    "    y_new = result_df[label_col]\n",
    "\n",
    "    # print(f\"Original class distribution: {value_counts.to_dict()}\")\n",
    "    # print(f\"Imbalanced class distribution: {y_new.value_counts().to_dict()}\")\n",
    "\n",
    "    return x_new, y_new\n"
   ]
  },
  {
   "cell_type": "code",
   "execution_count": 3,
   "metadata": {},
   "outputs": [],
   "source": [
    "def Compare_RF_F1scores(OG_x_train, OG_y_train, RF_x_train_upsampled, RF_y_train_upsampled, SM_x_train_upsampled, SM_y_train_upsampled, x_test, y_test):\n",
    "\n",
    "    #train, fit, and predict original points\n",
    "    original_RF = RandomForestClassifier(class_weight='balanced')\n",
    "    original_RF.fit(OG_x_train, OG_y_train)\n",
    "    y_pred_original = original_RF.predict(x_test)\n",
    "\n",
    "    #train, fit, and predict points upsampled by Random Forest Upsampler\n",
    "    RF_upsampled_RF = RandomForestClassifier()\n",
    "    RF_upsampled_RF.fit(RF_x_train_upsampled, RF_y_train_upsampled)\n",
    "    y_pred_RF_upsampled = RF_upsampled_RF.predict(x_test)\n",
    "\n",
    "    #train, fit, and predict points upsampled by SMOTE\n",
    "    SM_upsampled_RF = RandomForestClassifier()\n",
    "    SM_upsampled_RF.fit(SM_x_train_upsampled, SM_y_train_upsampled)\n",
    "    y_pred_SM_upsampled = SM_upsampled_RF.predict(x_test)\n",
    "\n",
    "    #append f1 scores\n",
    "    scores_OG = f1_score(y_test, y_pred_original, average='binary')\n",
    "    scores_RF_upsampled = f1_score(y_test, y_pred_RF_upsampled, average='binary')\n",
    "    scores_SM_upsampled = f1_score(y_test, y_pred_SM_upsampled, average='binary')\n",
    "\n",
    "    return scores_OG, scores_RF_upsampled, scores_SM_upsampled\n",
    "\n",
    "    "
   ]
  },
  {
   "cell_type": "code",
   "execution_count": 14,
   "metadata": {},
   "outputs": [],
   "source": [
    "def run(n, data, dataset_name, target, ratio, categorical=False, encoded=False, cat_col=None):\n",
    "    OG_scores = np.zeros(n)\n",
    "    RF_upsampled_scores = np.zeros(n)\n",
    "    SM_upsampled_scores = np.zeros(n)\n",
    "    for i in range(n):\n",
    "        preprocessor = DatasetPreprocessor(data, target_column=target)\n",
    "        x_train, y_train, x_test, y_test = (preprocessor.x_train, preprocessor.y_train,\n",
    "                                                    preprocessor.x_test, preprocessor.y_test)\n",
    "\n",
    "        x_train_imbal, y_train_imbal = introduce_imbalance(x_train, y_train, imbalance_ratio=ratio)\n",
    "\n",
    "        Oversampler = RFOversampler(x_train=x_train_imbal, y_train=y_train_imbal, contains_categoricals=categorical, encoded=encoded, cat_cols=cat_col)\n",
    "        RF_upsampled_x_train, RF_upsampled_y_train = Oversampler.fit()\n",
    "\n",
    "        smote = SMOTE(random_state=42)\n",
    "        SM_upsampled_x_train, SM_upsampled_y_train = smote.fit_resample(x_train_imbal, y_train_imbal)\n",
    "    \n",
    "        OG_score, RF_upsampled_score, SM_upsampled_score = Compare_RF_F1scores( \n",
    "        x_train_imbal, \n",
    "        y_train_imbal, \n",
    "        RF_upsampled_x_train, \n",
    "        RF_upsampled_y_train, \n",
    "        SM_upsampled_x_train, \n",
    "        SM_upsampled_y_train, \n",
    "        x_test, \n",
    "        y_test\n",
    "        )\n",
    "        OG_scores[i] = OG_score\n",
    "        RF_upsampled_scores[i] = RF_upsampled_score\n",
    "        SM_upsampled_scores[i] = SM_upsampled_score\n",
    "    \n",
    "    print(f\"No Upsampling avg f1 score: {np.mean(OG_scores)}\")\n",
    "    print(f\"RF avg f1 score: {np.mean(RF_upsampled_scores)}\")\n",
    "    print(f\"SMOTE avg f1 score {np.mean(SM_upsampled_scores)}\")\n",
    "    print(np.mean(RF_upsampled_scores) - np.mean(SM_upsampled_scores))\n",
    "    # fig, ax = plt.subplots(1,3, figsize=(10,5), sharey=True)\n",
    "\n",
    "    # ax[0].plot(range(1,n+1), OG_scores)\n",
    "    # ax[0].set(title='Original Data')\n",
    "    # ax[1].plot(range(1,n+1), RF_upsampled_scores)\n",
    "    # ax[1].set(title='RF upsampled Data')\n",
    "    # ax[2].plot(range(1,n+1), SM_upsampled_scores)\n",
    "    # ax[2].set(title='SMOTE upsampled Data')\n",
    "    # fig.suptitle(f'F1 Scores - {dataset_name} ({ratio} imbalance ratio)')\n",
    "\n",
    "    "
   ]
  },
  {
   "cell_type": "code",
   "execution_count": 15,
   "metadata": {},
   "outputs": [],
   "source": [
    "artificial_tree_data = pd.read_csv(\"./datasets/artificial_tree.csv\")\n",
    "glass_data = pd.read_csv(\"./datasets/glass.csv\")\n",
    "opt_digits_data = pd.read_csv(\"./datasets/optdigits.csv\")\n",
    "diabetes_data = pd.read_csv(\"./datasets/diabetes.csv\")\n",
    "hill_valley_data = pd.read_csv(\"./datasets/hill_valley.csv\")\n",
    "titanic_data = pd.read_csv(\"./datasets/titanic.csv\")\n",
    "flare1_data = pd.read_csv(\"./datasets/flare1.csv\")\n",
    "heart_failure_data = pd.read_csv('./datasets/heart_failure.csv')\n",
    "hepatitis_data = pd.read_csv('./datasets/hepatitis.csv')\n",
    "ionsphere_data = pd.read_csv('./datasets/ionosphere.csv')\n",
    "le = LabelEncoder()\n",
    "ionsphere_data['class'] = le.fit_transform(ionsphere_data['class'])\n",
    "parkinsons_data = pd.read_csv('./datasets/parkinsons.csv')\n",
    "seeds_data = pd.read_csv('./datasets/seeds.csv')\n",
    "sonar_data = pd.read_csv('./datasets/sonar.csv')\n",
    "le1 = LabelEncoder()\n",
    "sonar_data['class'] = le1.fit_transform(sonar_data['class'])\n"
   ]
  },
  {
   "cell_type": "markdown",
   "metadata": {},
   "source": [
    "ARTIFICIAL TREE TEST COMPARISON"
   ]
  },
  {
   "cell_type": "code",
   "execution_count": 31,
   "metadata": {},
   "outputs": [
    {
     "ename": "ValueError",
     "evalue": "Found input variables with inconsistent numbers of samples: [2593, 3537]",
     "output_type": "error",
     "traceback": [
      "\u001b[31m---------------------------------------------------------------------------\u001b[39m",
      "\u001b[31mValueError\u001b[39m                                Traceback (most recent call last)",
      "\u001b[36mCell\u001b[39m\u001b[36m \u001b[39m\u001b[32mIn[31]\u001b[39m\u001b[32m, line 1\u001b[39m\n\u001b[32m----> \u001b[39m\u001b[32m1\u001b[39m run(\u001b[32m1\u001b[39m, artificial_tree_data, \u001b[33m\"\u001b[39m\u001b[33mArtificial Tree\u001b[39m\u001b[33m\"\u001b[39m, \u001b[33m\"\u001b[39m\u001b[33mClass\u001b[39m\u001b[33m\"\u001b[39m, \u001b[32m0.2\u001b[39m, categorical=\u001b[38;5;28;01mFalse\u001b[39;00m, encoded=\u001b[38;5;28;01mFalse\u001b[39;00m, cat_col=\u001b[38;5;28;01mNone\u001b[39;00m)\n",
      "\u001b[36mCell\u001b[39m\u001b[36m \u001b[39m\u001b[32mIn[14]\u001b[39m\u001b[32m, line 18\u001b[39m, in \u001b[36mrun\u001b[39m\u001b[34m(n, data, dataset_name, target, ratio, categorical, encoded, cat_col)\u001b[39m\n\u001b[32m     15\u001b[39m smote = SMOTE(random_state=\u001b[32m42\u001b[39m)\n\u001b[32m     16\u001b[39m SM_upsampled_x_train, SM_upsampled_y_train = smote.fit_resample(x_train_imbal, y_train_imbal)\n\u001b[32m---> \u001b[39m\u001b[32m18\u001b[39m OG_score, RF_upsampled_score, SM_upsampled_score = Compare_RF_F1scores( \n\u001b[32m     19\u001b[39m x_train_imbal, \n\u001b[32m     20\u001b[39m y_train_imbal, \n\u001b[32m     21\u001b[39m RF_upsampled_x_train, \n\u001b[32m     22\u001b[39m RF_upsampled_y_train, \n\u001b[32m     23\u001b[39m SM_upsampled_x_train, \n\u001b[32m     24\u001b[39m SM_upsampled_y_train, \n\u001b[32m     25\u001b[39m x_test, \n\u001b[32m     26\u001b[39m y_test\n\u001b[32m     27\u001b[39m )\n\u001b[32m     28\u001b[39m OG_scores[i] = OG_score\n\u001b[32m     29\u001b[39m RF_upsampled_scores[i] = RF_upsampled_score\n",
      "\u001b[36mCell\u001b[39m\u001b[36m \u001b[39m\u001b[32mIn[3]\u001b[39m\u001b[32m, line 10\u001b[39m, in \u001b[36mCompare_RF_F1scores\u001b[39m\u001b[34m(OG_x_train, OG_y_train, RF_x_train_upsampled, RF_y_train_upsampled, SM_x_train_upsampled, SM_y_train_upsampled, x_test, y_test)\u001b[39m\n\u001b[32m      8\u001b[39m \u001b[38;5;66;03m#train, fit, and predict points upsampled by Random Forest Upsampler\u001b[39;00m\n\u001b[32m      9\u001b[39m RF_upsampled_RF = RandomForestClassifier()\n\u001b[32m---> \u001b[39m\u001b[32m10\u001b[39m RF_upsampled_RF.fit(RF_x_train_upsampled, RF_y_train_upsampled)\n\u001b[32m     11\u001b[39m y_pred_RF_upsampled = RF_upsampled_RF.predict(x_test)\n\u001b[32m     13\u001b[39m \u001b[38;5;66;03m#train, fit, and predict points upsampled by SMOTE\u001b[39;00m\n",
      "\u001b[36mFile \u001b[39m\u001b[32mc:\\Users\\potat\\miniconda3\\envs\\MachineLearning\\Lib\\site-packages\\sklearn\\base.py:1389\u001b[39m, in \u001b[36m_fit_context.<locals>.decorator.<locals>.wrapper\u001b[39m\u001b[34m(estimator, *args, **kwargs)\u001b[39m\n\u001b[32m   1382\u001b[39m     estimator._validate_params()\n\u001b[32m   1384\u001b[39m \u001b[38;5;28;01mwith\u001b[39;00m config_context(\n\u001b[32m   1385\u001b[39m     skip_parameter_validation=(\n\u001b[32m   1386\u001b[39m         prefer_skip_nested_validation \u001b[38;5;129;01mor\u001b[39;00m global_skip_validation\n\u001b[32m   1387\u001b[39m     )\n\u001b[32m   1388\u001b[39m ):\n\u001b[32m-> \u001b[39m\u001b[32m1389\u001b[39m     \u001b[38;5;28;01mreturn\u001b[39;00m fit_method(estimator, *args, **kwargs)\n",
      "\u001b[36mFile \u001b[39m\u001b[32mc:\\Users\\potat\\miniconda3\\envs\\MachineLearning\\Lib\\site-packages\\sklearn\\ensemble\\_forest.py:360\u001b[39m, in \u001b[36mBaseForest.fit\u001b[39m\u001b[34m(self, X, y, sample_weight)\u001b[39m\n\u001b[32m    357\u001b[39m \u001b[38;5;28;01mif\u001b[39;00m issparse(y):\n\u001b[32m    358\u001b[39m     \u001b[38;5;28;01mraise\u001b[39;00m \u001b[38;5;167;01mValueError\u001b[39;00m(\u001b[33m\"\u001b[39m\u001b[33msparse multilabel-indicator for y is not supported.\u001b[39m\u001b[33m\"\u001b[39m)\n\u001b[32m--> \u001b[39m\u001b[32m360\u001b[39m X, y = validate_data(\n\u001b[32m    361\u001b[39m     \u001b[38;5;28mself\u001b[39m,\n\u001b[32m    362\u001b[39m     X,\n\u001b[32m    363\u001b[39m     y,\n\u001b[32m    364\u001b[39m     multi_output=\u001b[38;5;28;01mTrue\u001b[39;00m,\n\u001b[32m    365\u001b[39m     accept_sparse=\u001b[33m\"\u001b[39m\u001b[33mcsc\u001b[39m\u001b[33m\"\u001b[39m,\n\u001b[32m    366\u001b[39m     dtype=DTYPE,\n\u001b[32m    367\u001b[39m     ensure_all_finite=\u001b[38;5;28;01mFalse\u001b[39;00m,\n\u001b[32m    368\u001b[39m )\n\u001b[32m    369\u001b[39m \u001b[38;5;66;03m# _compute_missing_values_in_feature_mask checks if X has missing values and\u001b[39;00m\n\u001b[32m    370\u001b[39m \u001b[38;5;66;03m# will raise an error if the underlying tree base estimator can't handle missing\u001b[39;00m\n\u001b[32m    371\u001b[39m \u001b[38;5;66;03m# values. Only the criterion is required to determine if the tree supports\u001b[39;00m\n\u001b[32m    372\u001b[39m \u001b[38;5;66;03m# missing values.\u001b[39;00m\n\u001b[32m    373\u001b[39m estimator = \u001b[38;5;28mtype\u001b[39m(\u001b[38;5;28mself\u001b[39m.estimator)(criterion=\u001b[38;5;28mself\u001b[39m.criterion)\n",
      "\u001b[36mFile \u001b[39m\u001b[32mc:\\Users\\potat\\miniconda3\\envs\\MachineLearning\\Lib\\site-packages\\sklearn\\utils\\validation.py:2961\u001b[39m, in \u001b[36mvalidate_data\u001b[39m\u001b[34m(_estimator, X, y, reset, validate_separately, skip_check_array, **check_params)\u001b[39m\n\u001b[32m   2959\u001b[39m         y = check_array(y, input_name=\u001b[33m\"\u001b[39m\u001b[33my\u001b[39m\u001b[33m\"\u001b[39m, **check_y_params)\n\u001b[32m   2960\u001b[39m     \u001b[38;5;28;01melse\u001b[39;00m:\n\u001b[32m-> \u001b[39m\u001b[32m2961\u001b[39m         X, y = check_X_y(X, y, **check_params)\n\u001b[32m   2962\u001b[39m     out = X, y\n\u001b[32m   2964\u001b[39m \u001b[38;5;28;01mif\u001b[39;00m \u001b[38;5;129;01mnot\u001b[39;00m no_val_X \u001b[38;5;129;01mand\u001b[39;00m check_params.get(\u001b[33m\"\u001b[39m\u001b[33mensure_2d\u001b[39m\u001b[33m\"\u001b[39m, \u001b[38;5;28;01mTrue\u001b[39;00m):\n",
      "\u001b[36mFile \u001b[39m\u001b[32mc:\\Users\\potat\\miniconda3\\envs\\MachineLearning\\Lib\\site-packages\\sklearn\\utils\\validation.py:1389\u001b[39m, in \u001b[36mcheck_X_y\u001b[39m\u001b[34m(X, y, accept_sparse, accept_large_sparse, dtype, order, copy, force_writeable, force_all_finite, ensure_all_finite, ensure_2d, allow_nd, multi_output, ensure_min_samples, ensure_min_features, y_numeric, estimator)\u001b[39m\n\u001b[32m   1370\u001b[39m X = check_array(\n\u001b[32m   1371\u001b[39m     X,\n\u001b[32m   1372\u001b[39m     accept_sparse=accept_sparse,\n\u001b[32m   (...)\u001b[39m\u001b[32m   1384\u001b[39m     input_name=\u001b[33m\"\u001b[39m\u001b[33mX\u001b[39m\u001b[33m\"\u001b[39m,\n\u001b[32m   1385\u001b[39m )\n\u001b[32m   1387\u001b[39m y = _check_y(y, multi_output=multi_output, y_numeric=y_numeric, estimator=estimator)\n\u001b[32m-> \u001b[39m\u001b[32m1389\u001b[39m check_consistent_length(X, y)\n\u001b[32m   1391\u001b[39m \u001b[38;5;28;01mreturn\u001b[39;00m X, y\n",
      "\u001b[36mFile \u001b[39m\u001b[32mc:\\Users\\potat\\miniconda3\\envs\\MachineLearning\\Lib\\site-packages\\sklearn\\utils\\validation.py:475\u001b[39m, in \u001b[36mcheck_consistent_length\u001b[39m\u001b[34m(*arrays)\u001b[39m\n\u001b[32m    473\u001b[39m uniques = np.unique(lengths)\n\u001b[32m    474\u001b[39m \u001b[38;5;28;01mif\u001b[39;00m \u001b[38;5;28mlen\u001b[39m(uniques) > \u001b[32m1\u001b[39m:\n\u001b[32m--> \u001b[39m\u001b[32m475\u001b[39m     \u001b[38;5;28;01mraise\u001b[39;00m \u001b[38;5;167;01mValueError\u001b[39;00m(\n\u001b[32m    476\u001b[39m         \u001b[33m\"\u001b[39m\u001b[33mFound input variables with inconsistent numbers of samples: \u001b[39m\u001b[38;5;132;01m%r\u001b[39;00m\u001b[33m\"\u001b[39m\n\u001b[32m    477\u001b[39m         % [\u001b[38;5;28mint\u001b[39m(l) \u001b[38;5;28;01mfor\u001b[39;00m l \u001b[38;5;129;01min\u001b[39;00m lengths]\n\u001b[32m    478\u001b[39m     )\n",
      "\u001b[31mValueError\u001b[39m: Found input variables with inconsistent numbers of samples: [2593, 3537]"
     ]
    }
   ],
   "source": [
    "run(1, artificial_tree_data, \"Artificial Tree\", \"Class\", 0.2, categorical=False, encoded=False, cat_col=None)"
   ]
  },
  {
   "cell_type": "markdown",
   "metadata": {},
   "source": [
    "DIABETES EXAMPLE"
   ]
  },
  {
   "cell_type": "code",
   "execution_count": 30,
   "metadata": {},
   "outputs": [
    {
     "name": "stdout",
     "output_type": "stream",
     "text": [
      "No Upsampling avg f1 score: 0.08349556745086009\n",
      "RF avg f1 score: 0.43356930897558615\n",
      "SMOTE avg f1 score 0.41300113385352877\n",
      "0.020568175122057386\n"
     ]
    }
   ],
   "source": [
    "run(20, diabetes_data, \"diabetes\", \"Outcome\", 0.1, categorical=False, encoded=False, cat_col=None)"
   ]
  },
  {
   "cell_type": "code",
   "execution_count": 8,
   "metadata": {},
   "outputs": [],
   "source": [
    "colsss = [str(i) for i in range(2, 14)]\n",
    "# run(20, hepatitis_data, \"hepatitis\", \"class\", 0.1, categorical=True, encoded=False, cat_col=colsss)"
   ]
  },
  {
   "cell_type": "code",
   "execution_count": 9,
   "metadata": {},
   "outputs": [
    {
     "name": "stdout",
     "output_type": "stream",
     "text": [
      "0.01955695336978802\n"
     ]
    }
   ],
   "source": [
    "run(20, ionsphere_data, \"ionosphere\", \"class\", 0.1, categorical=True, encoded=False, cat_col=['V1'])"
   ]
  },
  {
   "cell_type": "code",
   "execution_count": 10,
   "metadata": {},
   "outputs": [
    {
     "name": "stdout",
     "output_type": "stream",
     "text": [
      "-0.002796784175806033\n"
     ]
    }
   ],
   "source": [
    "run(20, heart_failure_data, \"heart failure\", \"DEATH_EVENT\", 0.1, categorical=True, encoded=False, cat_col=['anaemia', 'diabetes', 'high_blood_pressure', 'sex', 'smoking'])"
   ]
  },
  {
   "cell_type": "markdown",
   "metadata": {},
   "source": [
    "HILL VALLEY EXAMPLE"
   ]
  },
  {
   "cell_type": "code",
   "execution_count": 11,
   "metadata": {},
   "outputs": [
    {
     "name": "stdout",
     "output_type": "stream",
     "text": [
      "0.022452152866913655\n"
     ]
    }
   ],
   "source": [
    "run(20, hill_valley_data, \"Hill Valley\", \"class\", 0.1, categorical=False, encoded=False, cat_col=None)"
   ]
  },
  {
   "cell_type": "markdown",
   "metadata": {},
   "source": [
    "TITANIC EXAMPLE"
   ]
  },
  {
   "cell_type": "code",
   "execution_count": 28,
   "metadata": {},
   "outputs": [
    {
     "name": "stdout",
     "output_type": "stream",
     "text": [
      "No Upsampling avg f1 score: 0.635473868803315\n",
      "RF avg f1 score: 0.65859129513471\n",
      "SMOTE avg f1 score 0.6532718730963325\n",
      "0.0053194220383775415\n"
     ]
    }
   ],
   "source": [
    "encoded_titanic = pd.get_dummies(titanic_data, columns=['Pclass', 'Sex', 'Embarked'], dtype=int)\n",
    "run(10, encoded_titanic, \"Titanic\", \"Survived\", 0.3, categorical=True, encoded=True, cat_col=['Pclass', 'Sex', 'Embarked'])"
   ]
  },
  {
   "cell_type": "code",
   "execution_count": 26,
   "metadata": {},
   "outputs": [
    {
     "name": "stdout",
     "output_type": "stream",
     "text": [
      "No Upsampling avg f1 score: 0.6222338080206757\n",
      "RF avg f1 score: 0.661025180016739\n",
      "SMOTE avg f1 score 0.66568965679755\n",
      "-0.004664476780810944\n"
     ]
    }
   ],
   "source": [
    "run(10, titanic_data, \"Titanic\", \"Survived\", 0.3, categorical=True, encoded=False, cat_col=['Pclass', 'Sex', 'Embarked'])"
   ]
  },
  {
   "cell_type": "code",
   "execution_count": 29,
   "metadata": {},
   "outputs": [
    {
     "name": "stdout",
     "output_type": "stream",
     "text": [
      "No Upsampling avg f1 score: 0.5393998857156752\n",
      "RF avg f1 score: 0.6623434572612111\n",
      "SMOTE avg f1 score 0.6831210001317771\n",
      "-0.02077754287056599\n"
     ]
    }
   ],
   "source": [
    "run(10, sonar_data, \"sonar\", \"class\", 0.3, categorical=False, encoded=False, cat_col=None)"
   ]
  }
 ],
 "metadata": {
  "kernelspec": {
   "display_name": "MachineLearning",
   "language": "python",
   "name": "python3"
  },
  "language_info": {
   "codemirror_mode": {
    "name": "ipython",
    "version": 3
   },
   "file_extension": ".py",
   "mimetype": "text/x-python",
   "name": "python",
   "nbconvert_exporter": "python",
   "pygments_lexer": "ipython3",
   "version": "3.11.13"
  }
 },
 "nbformat": 4,
 "nbformat_minor": 2
}
