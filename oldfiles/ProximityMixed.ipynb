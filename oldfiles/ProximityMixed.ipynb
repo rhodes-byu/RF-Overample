version https://git-lfs.github.com/spec/v1
oid sha256:659fe35a79bdbe7ad50228229439491a3a33463d9221b664cdac45d648793196
size 307600
