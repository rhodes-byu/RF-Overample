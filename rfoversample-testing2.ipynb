{
 "cells": [
  {
   "cell_type": "code",
   "execution_count": 11,
   "metadata": {},
   "outputs": [
    {
     "ename": "ImportError",
     "evalue": "cannot import name 'RFOversampler' from 'rfoversample' (/Users/braydenhumpherys/Documents/school/stat_research/RF-Overample/rfoversample.py)",
     "output_type": "error",
     "traceback": [
      "\u001b[0;31m---------------------------------------------------------------------------\u001b[0m",
      "\u001b[0;31mImportError\u001b[0m                               Traceback (most recent call last)",
      "Cell \u001b[0;32mIn[11], line 9\u001b[0m\n\u001b[1;32m      7\u001b[0m \u001b[38;5;28;01mfrom\u001b[39;00m \u001b[38;5;21;01msklearn\u001b[39;00m\u001b[38;5;21;01m.\u001b[39;00m\u001b[38;5;21;01mmetrics\u001b[39;00m \u001b[38;5;28;01mimport\u001b[39;00m f1_score\n\u001b[1;32m      8\u001b[0m \u001b[38;5;28;01mfrom\u001b[39;00m \u001b[38;5;21;01msklearn\u001b[39;00m\u001b[38;5;21;01m.\u001b[39;00m\u001b[38;5;21;01mensemble\u001b[39;00m \u001b[38;5;28;01mimport\u001b[39;00m RandomForestClassifier\n\u001b[0;32m----> 9\u001b[0m \u001b[38;5;28;01mfrom\u001b[39;00m \u001b[38;5;21;01mrfoversample\u001b[39;00m \u001b[38;5;28;01mimport\u001b[39;00m RFOversampler\n\u001b[1;32m     11\u001b[0m \u001b[38;5;28;01mimport\u001b[39;00m \u001b[38;5;21;01msys\u001b[39;00m\n\u001b[1;32m     12\u001b[0m sys\u001b[38;5;241m.\u001b[39mpath\u001b[38;5;241m.\u001b[39mappend(\u001b[38;5;124m\"\u001b[39m\u001b[38;5;124mSupportFunctions\u001b[39m\u001b[38;5;124m\"\u001b[39m)\n",
      "\u001b[0;31mImportError\u001b[0m: cannot import name 'RFOversampler' from 'rfoversample' (/Users/braydenhumpherys/Documents/school/stat_research/RF-Overample/rfoversample.py)"
     ]
    }
   ],
   "source": [
    "import numpy as np\n",
    "import pandas as pd\n",
    "import seaborn as sns\n",
    "import matplotlib.pyplot as plt\n",
    "from rfgap import RFGAP\n",
    "from sklearn.model_selection import train_test_split\n",
    "from sklearn.metrics import f1_score\n",
    "from sklearn.ensemble import RandomForestClassifier\n",
    "from rfoversample import RFOversampler\n",
    "\n",
    "import sys\n",
    "sys.path.append(\"SupportFunctions\")\n",
    "\n",
    "from prepare_datasets import DatasetPreprocessor  \n",
    "from imbalancer import ImbalanceHandler"
   ]
  },
  {
   "cell_type": "code",
   "execution_count": 4,
   "metadata": {},
   "outputs": [],
   "source": [
    "titanic = pd.read_csv('./datasets/titanic.csv')\n",
    "titanic_cat_cols = ['Pclass', 'Sex', 'Embarked']"
   ]
  },
  {
   "cell_type": "markdown",
   "metadata": {},
   "source": [
    "COMPARE F1 SCORES"
   ]
  },
  {
   "cell_type": "code",
   "execution_count": 7,
   "metadata": {},
   "outputs": [
    {
     "name": "stdout",
     "output_type": "stream",
     "text": [
      "Ordinal encoded categorical columns: []\n",
      "\n",
      "Data Preparation Complete\n",
      "Train-Test Split: Train (498) | Test (214)\n",
      "Feature Columns: 12 | Categorical Processed: 0\n",
      "\n"
     ]
    },
    {
     "ename": "NameError",
     "evalue": "name 'RFOversampler' is not defined",
     "output_type": "error",
     "traceback": [
      "\u001b[0;31m---------------------------------------------------------------------------\u001b[0m",
      "\u001b[0;31mNameError\u001b[0m                                 Traceback (most recent call last)",
      "Cell \u001b[0;32mIn[7], line 9\u001b[0m\n\u001b[1;32m      7\u001b[0m \u001b[38;5;66;03m#upsample the training data using the RFOversampler\u001b[39;00m\n\u001b[1;32m      8\u001b[0m TrainData \u001b[38;5;241m=\u001b[39m pd\u001b[38;5;241m.\u001b[39mconcat((y_train, x_train), axis\u001b[38;5;241m=\u001b[39m\u001b[38;5;241m1\u001b[39m)\n\u001b[0;32m----> 9\u001b[0m upsampled_x_train1, upsampled_y_train1 \u001b[38;5;241m=\u001b[39m \u001b[43mRFOversampler\u001b[49m(Data\u001b[38;5;241m=\u001b[39mTrainData, target_ind\u001b[38;5;241m=\u001b[39m\u001b[38;5;241m0\u001b[39m, encoded\u001b[38;5;241m=\u001b[39m\u001b[38;5;28;01mTrue\u001b[39;00m, cat_cols\u001b[38;5;241m=\u001b[39mtitanic_cat_cols)\n",
      "\u001b[0;31mNameError\u001b[0m: name 'RFOversampler' is not defined"
     ]
    }
   ],
   "source": [
    "#encode titanic dataset's categorical features, use preprocessor (built off sklearn train-test split) to split the dataset\n",
    "encoded_titanic = pd.get_dummies(titanic, columns=titanic_cat_cols, dtype=int)\n",
    "preprocessor = DatasetPreprocessor(encoded_titanic, target_column='Survived')\n",
    "x_train, y_train, x_test, y_test = (preprocessor.x_train, preprocessor.y_train,\n",
    "                                    preprocessor.x_test, preprocessor.y_test)\n",
    "\n",
    "#upsample the training data using the RFOversampler\n",
    "TrainData = pd.concat((y_train, x_train), axis=1)\n",
    "upsampled_x_train1, upsampled_y_train1 = RFOversampler(Data=TrainData, target_ind=0, encoded=True, cat_cols=titanic_cat_cols)"
   ]
  },
  {
   "cell_type": "code",
   "execution_count": null,
   "metadata": {},
   "outputs": [],
   "source": []
  }
 ],
 "metadata": {
  "kernelspec": {
   "display_name": "rfgap_upsample",
   "language": "python",
   "name": "python3"
  },
  "language_info": {
   "codemirror_mode": {
    "name": "ipython",
    "version": 3
   },
   "file_extension": ".py",
   "mimetype": "text/x-python",
   "name": "python",
   "nbconvert_exporter": "python",
   "pygments_lexer": "ipython3",
   "version": "3.11.5"
  }
 },
 "nbformat": 4,
 "nbformat_minor": 2
}
